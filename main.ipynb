{
 "cells": [
  {
   "attachments": {},
   "cell_type": "markdown",
   "metadata": {},
   "source": [
    "# Main Jupyter Notebook"
   ]
  },
  {
   "attachments": {},
   "cell_type": "markdown",
   "metadata": {},
   "source": [
    "## Data preparation"
   ]
  },
  {
   "cell_type": "code",
   "execution_count": 1,
   "metadata": {},
   "outputs": [],
   "source": [
    "from importnb import imports\n",
    "with imports(\"ipynb\"):\n",
    "    from common.functions import (\n",
    "        load_dataset,\n",
    "        load_parameters,\n",
    "        clean_up_dataset,\n",
    "        print_feature_outliers,\n",
    "        remove_outliers,\n",
    "        generate_numerical_eda_visualization,\n",
    "        generate_numerical_heatmap,\n",
    "        generate_numerical_categorical_heatmap,\n",
    "        generate_categorical_count_visualization,\n",
    "        generate_numerical_vs_categorical_eda_visualization,\n",
    "        generate_time_series_visualization\n",
    "    )"
   ]
  },
  {
   "cell_type": "code",
   "execution_count": 2,
   "metadata": {},
   "outputs": [],
   "source": [
    "parameters = load_parameters(\".\")\n",
    "# print(parameters)"
   ]
  },
  {
   "cell_type": "code",
   "execution_count": 3,
   "metadata": {},
   "outputs": [],
   "source": [
    "DatasetRaw = load_dataset(parameters['load_dataset_parameters'])\n",
    "DatasetRaw.info()\n",
    "DatasetRaw.head(5)\n",
    "# DatasetRaw.to_csv(\"mixed_remaining_lease_type.csv\", index=False)"
   ]
  },
  {
   "attachments": {},
   "cell_type": "markdown",
   "metadata": {},
   "source": [
    "## Data Cleanup"
   ]
  },
  {
   "cell_type": "code",
   "execution_count": null,
   "metadata": {},
   "outputs": [],
   "source": [
    "CleanUpDataset = clean_up_dataset(DatasetRaw, parameters['cleanup_parameters'])\n",
    "CleanUpDataset.info()\n",
    "CleanUpDataset.head(5)"
   ]
  },
  {
   "cell_type": "code",
   "execution_count": null,
   "metadata": {},
   "outputs": [],
   "source": [
    "CleanUpDataset.describe()"
   ]
  },
  {
   "cell_type": "code",
   "execution_count": null,
   "metadata": {},
   "outputs": [],
   "source": [
    "generate_numerical_eda_visualization(CleanUpDataset, \"Numerical EDA\")"
   ]
  },
  {
   "cell_type": "code",
   "execution_count": null,
   "metadata": {},
   "outputs": [],
   "source": [
    "print_feature_outliers(CleanUpDataset)"
   ]
  },
  {
   "cell_type": "code",
   "execution_count": null,
   "metadata": {},
   "outputs": [],
   "source": [
    "RemovedOutlierDataset = remove_outliers(CleanUpDataset)\n",
    "RemovedOutlierDataset.info()"
   ]
  },
  {
   "attachments": {},
   "cell_type": "markdown",
   "metadata": {},
   "source": [
    "## Correlation of dataframe features"
   ]
  },
  {
   "cell_type": "code",
   "execution_count": null,
   "metadata": {},
   "outputs": [],
   "source": [
    "# generate_numerical_categorical_heatmap(CleanUpDataset)"
   ]
  },
  {
   "cell_type": "code",
   "execution_count": null,
   "metadata": {},
   "outputs": [],
   "source": [
    "# generate_numerical_categorical_heatmap(RemovedOutlierDataset)"
   ]
  },
  {
   "cell_type": "code",
   "execution_count": null,
   "metadata": {},
   "outputs": [],
   "source": [
    "# generate_numerical_heatmap(RemovedOutlierDataset, \"Numerical Heatmap\")"
   ]
  },
  {
   "attachments": {},
   "cell_type": "markdown",
   "metadata": {},
   "source": [
    "## Simple Exploratory Data Analysis"
   ]
  },
  {
   "cell_type": "code",
   "execution_count": null,
   "metadata": {},
   "outputs": [],
   "source": [
    "# generate_numerical_eda_visualization(RemovedOutlierDataset, \"Numerical EDA\")"
   ]
  },
  {
   "cell_type": "code",
   "execution_count": null,
   "metadata": {},
   "outputs": [],
   "source": [
    "# generate_categorical_count_visualization(RemovedOutlierDataset, parameters['categorical_count_visualization_parameters'])"
   ]
  },
  {
   "cell_type": "code",
   "execution_count": null,
   "metadata": {},
   "outputs": [],
   "source": [
    "# generate_numerical_vs_categorical_eda_visualization(\n",
    "#     RemovedOutlierDataset, \n",
    "#     parameters['numerical_vs_categorical_eda_visualization_parameters'], \n",
    "#     '[UNION outliers removed] num_subscriber VS category'\n",
    "# )"
   ]
  },
  {
   "attachments": {},
   "cell_type": "markdown",
   "metadata": {},
   "source": [
    "## Comparing town based on value observed (Time series graph)"
   ]
  },
  {
   "cell_type": "code",
   "execution_count": null,
   "metadata": {},
   "outputs": [],
   "source": [
    "# generate_time_series_visualization(RemovedOutlierDataset, parameters['time_series_parameters'])"
   ]
  },
  {
   "attachments": {},
   "cell_type": "markdown",
   "metadata": {},
   "source": [
    "## Linear regression"
   ]
  }
 ],
 "metadata": {
  "kernelspec": {
   "display_name": "Python 3 (ipykernel)",
   "language": "python",
   "name": "python3"
  },
  "language_info": {
   "codemirror_mode": {
    "name": "ipython",
    "version": 3
   },
   "file_extension": ".py",
   "mimetype": "text/x-python",
   "name": "python",
   "nbconvert_exporter": "python",
   "pygments_lexer": "ipython3",
   "version": "3.10.11"
  }
 },
 "nbformat": 4,
 "nbformat_minor": 2
}
